{
 "cells": [
  {
   "cell_type": "code",
   "execution_count": 2,
   "metadata": {},
   "outputs": [],
   "source": [
    "from tensorflow import keras\n",
    "import matplotlib.pyplot as plt\n",
    "import pandas as pd\n",
    "import numpy as np\n",
    "import seaborn as sns"
   ]
  },
  {
   "cell_type": "code",
   "execution_count": 3,
   "metadata": {},
   "outputs": [],
   "source": [
    "from sklearn.preprocessing import LabelEncoder\n",
    "from sklearn.model_selection import KFold, StratifiedKFold\n",
    "from sklearn.preprocessing import StandardScaler"
   ]
  },
  {
   "cell_type": "code",
   "execution_count": 4,
   "metadata": {},
   "outputs": [],
   "source": [
    "from sklearn.ensemble import RandomForestClassifier\n",
    "import gc\n",
    "gc.enable()"
   ]
  },
  {
   "cell_type": "code",
   "execution_count": 5,
   "metadata": {},
   "outputs": [],
   "source": [
    "x_data = pd.read_csv('career-con-2019\\X_train.csv')"
   ]
  },
  {
   "cell_type": "code",
   "execution_count": 6,
   "metadata": {
    "scrolled": true
   },
   "outputs": [
    {
     "name": "stdout",
     "output_type": "stream",
     "text": [
      "<class 'pandas.core.frame.DataFrame'>\n",
      "RangeIndex: 487680 entries, 0 to 487679\n",
      "Data columns (total 13 columns):\n",
      "row_id                   487680 non-null object\n",
      "series_id                487680 non-null int64\n",
      "measurement_number       487680 non-null int64\n",
      "orientation_X            487680 non-null float64\n",
      "orientation_Y            487680 non-null float64\n",
      "orientation_Z            487680 non-null float64\n",
      "orientation_W            487680 non-null float64\n",
      "angular_velocity_X       487680 non-null float64\n",
      "angular_velocity_Y       487680 non-null float64\n",
      "angular_velocity_Z       487680 non-null float64\n",
      "linear_acceleration_X    487680 non-null float64\n",
      "linear_acceleration_Y    487680 non-null float64\n",
      "linear_acceleration_Z    487680 non-null float64\n",
      "dtypes: float64(10), int64(2), object(1)\n",
      "memory usage: 48.4+ MB\n"
     ]
    }
   ],
   "source": [
    "x_data.info()"
   ]
  },
  {
   "cell_type": "code",
   "execution_count": 7,
   "metadata": {},
   "outputs": [
    {
     "data": {
      "text/html": [
       "<div>\n",
       "<style scoped>\n",
       "    .dataframe tbody tr th:only-of-type {\n",
       "        vertical-align: middle;\n",
       "    }\n",
       "\n",
       "    .dataframe tbody tr th {\n",
       "        vertical-align: top;\n",
       "    }\n",
       "\n",
       "    .dataframe thead th {\n",
       "        text-align: right;\n",
       "    }\n",
       "</style>\n",
       "<table border=\"1\" class=\"dataframe\">\n",
       "  <thead>\n",
       "    <tr style=\"text-align: right;\">\n",
       "      <th></th>\n",
       "      <th>series_id</th>\n",
       "      <th>measurement_number</th>\n",
       "      <th>orientation_X</th>\n",
       "      <th>orientation_Y</th>\n",
       "      <th>orientation_Z</th>\n",
       "      <th>orientation_W</th>\n",
       "      <th>angular_velocity_X</th>\n",
       "      <th>angular_velocity_Y</th>\n",
       "      <th>angular_velocity_Z</th>\n",
       "      <th>linear_acceleration_X</th>\n",
       "      <th>linear_acceleration_Y</th>\n",
       "      <th>linear_acceleration_Z</th>\n",
       "    </tr>\n",
       "  </thead>\n",
       "  <tbody>\n",
       "    <tr>\n",
       "      <th>count</th>\n",
       "      <td>487680.000000</td>\n",
       "      <td>487680.000000</td>\n",
       "      <td>487680.000000</td>\n",
       "      <td>487680.000000</td>\n",
       "      <td>487680.000000</td>\n",
       "      <td>487680.000000</td>\n",
       "      <td>487680.000000</td>\n",
       "      <td>487680.000000</td>\n",
       "      <td>487680.000000</td>\n",
       "      <td>487680.000000</td>\n",
       "      <td>487680.000000</td>\n",
       "      <td>487680.000000</td>\n",
       "    </tr>\n",
       "    <tr>\n",
       "      <th>mean</th>\n",
       "      <td>1904.500000</td>\n",
       "      <td>63.500000</td>\n",
       "      <td>-0.018050</td>\n",
       "      <td>0.075062</td>\n",
       "      <td>0.012458</td>\n",
       "      <td>-0.003804</td>\n",
       "      <td>0.000178</td>\n",
       "      <td>0.008338</td>\n",
       "      <td>-0.019184</td>\n",
       "      <td>0.129281</td>\n",
       "      <td>2.886468</td>\n",
       "      <td>-9.364886</td>\n",
       "    </tr>\n",
       "    <tr>\n",
       "      <th>std</th>\n",
       "      <td>1099.853353</td>\n",
       "      <td>36.949327</td>\n",
       "      <td>0.685696</td>\n",
       "      <td>0.708226</td>\n",
       "      <td>0.105972</td>\n",
       "      <td>0.104299</td>\n",
       "      <td>0.117764</td>\n",
       "      <td>0.088677</td>\n",
       "      <td>0.229153</td>\n",
       "      <td>1.870600</td>\n",
       "      <td>2.140067</td>\n",
       "      <td>2.845341</td>\n",
       "    </tr>\n",
       "    <tr>\n",
       "      <th>min</th>\n",
       "      <td>0.000000</td>\n",
       "      <td>0.000000</td>\n",
       "      <td>-0.989100</td>\n",
       "      <td>-0.989650</td>\n",
       "      <td>-0.162830</td>\n",
       "      <td>-0.156620</td>\n",
       "      <td>-2.371000</td>\n",
       "      <td>-0.927860</td>\n",
       "      <td>-1.268800</td>\n",
       "      <td>-36.067000</td>\n",
       "      <td>-121.490000</td>\n",
       "      <td>-75.386000</td>\n",
       "    </tr>\n",
       "    <tr>\n",
       "      <th>25%</th>\n",
       "      <td>952.000000</td>\n",
       "      <td>31.750000</td>\n",
       "      <td>-0.705120</td>\n",
       "      <td>-0.688980</td>\n",
       "      <td>-0.089466</td>\n",
       "      <td>-0.106060</td>\n",
       "      <td>-0.040752</td>\n",
       "      <td>-0.033191</td>\n",
       "      <td>-0.090743</td>\n",
       "      <td>-0.530833</td>\n",
       "      <td>1.957900</td>\n",
       "      <td>-10.193000</td>\n",
       "    </tr>\n",
       "    <tr>\n",
       "      <th>50%</th>\n",
       "      <td>1904.500000</td>\n",
       "      <td>63.500000</td>\n",
       "      <td>-0.105960</td>\n",
       "      <td>0.237855</td>\n",
       "      <td>0.031949</td>\n",
       "      <td>-0.018704</td>\n",
       "      <td>0.000084</td>\n",
       "      <td>0.005412</td>\n",
       "      <td>-0.005335</td>\n",
       "      <td>0.124980</td>\n",
       "      <td>2.879600</td>\n",
       "      <td>-9.365300</td>\n",
       "    </tr>\n",
       "    <tr>\n",
       "      <th>75%</th>\n",
       "      <td>2857.000000</td>\n",
       "      <td>95.250000</td>\n",
       "      <td>0.651803</td>\n",
       "      <td>0.809550</td>\n",
       "      <td>0.122870</td>\n",
       "      <td>0.097215</td>\n",
       "      <td>0.040527</td>\n",
       "      <td>0.048068</td>\n",
       "      <td>0.064604</td>\n",
       "      <td>0.792263</td>\n",
       "      <td>3.798800</td>\n",
       "      <td>-8.522700</td>\n",
       "    </tr>\n",
       "    <tr>\n",
       "      <th>max</th>\n",
       "      <td>3809.000000</td>\n",
       "      <td>127.000000</td>\n",
       "      <td>0.989100</td>\n",
       "      <td>0.988980</td>\n",
       "      <td>0.155710</td>\n",
       "      <td>0.154770</td>\n",
       "      <td>2.282200</td>\n",
       "      <td>1.079100</td>\n",
       "      <td>1.387300</td>\n",
       "      <td>36.797000</td>\n",
       "      <td>73.008000</td>\n",
       "      <td>65.839000</td>\n",
       "    </tr>\n",
       "  </tbody>\n",
       "</table>\n",
       "</div>"
      ],
      "text/plain": [
       "           series_id  measurement_number  orientation_X  orientation_Y  \\\n",
       "count  487680.000000       487680.000000  487680.000000  487680.000000   \n",
       "mean     1904.500000           63.500000      -0.018050       0.075062   \n",
       "std      1099.853353           36.949327       0.685696       0.708226   \n",
       "min         0.000000            0.000000      -0.989100      -0.989650   \n",
       "25%       952.000000           31.750000      -0.705120      -0.688980   \n",
       "50%      1904.500000           63.500000      -0.105960       0.237855   \n",
       "75%      2857.000000           95.250000       0.651803       0.809550   \n",
       "max      3809.000000          127.000000       0.989100       0.988980   \n",
       "\n",
       "       orientation_Z  orientation_W  angular_velocity_X  angular_velocity_Y  \\\n",
       "count  487680.000000  487680.000000       487680.000000       487680.000000   \n",
       "mean        0.012458      -0.003804            0.000178            0.008338   \n",
       "std         0.105972       0.104299            0.117764            0.088677   \n",
       "min        -0.162830      -0.156620           -2.371000           -0.927860   \n",
       "25%        -0.089466      -0.106060           -0.040752           -0.033191   \n",
       "50%         0.031949      -0.018704            0.000084            0.005412   \n",
       "75%         0.122870       0.097215            0.040527            0.048068   \n",
       "max         0.155710       0.154770            2.282200            1.079100   \n",
       "\n",
       "       angular_velocity_Z  linear_acceleration_X  linear_acceleration_Y  \\\n",
       "count       487680.000000          487680.000000          487680.000000   \n",
       "mean            -0.019184               0.129281               2.886468   \n",
       "std              0.229153               1.870600               2.140067   \n",
       "min             -1.268800             -36.067000            -121.490000   \n",
       "25%             -0.090743              -0.530833               1.957900   \n",
       "50%             -0.005335               0.124980               2.879600   \n",
       "75%              0.064604               0.792263               3.798800   \n",
       "max              1.387300              36.797000              73.008000   \n",
       "\n",
       "       linear_acceleration_Z  \n",
       "count          487680.000000  \n",
       "mean               -9.364886  \n",
       "std                 2.845341  \n",
       "min               -75.386000  \n",
       "25%               -10.193000  \n",
       "50%                -9.365300  \n",
       "75%                -8.522700  \n",
       "max                65.839000  "
      ]
     },
     "execution_count": 7,
     "metadata": {},
     "output_type": "execute_result"
    }
   ],
   "source": [
    "x_data.describe()"
   ]
  },
  {
   "cell_type": "code",
   "execution_count": 8,
   "metadata": {
    "scrolled": true
   },
   "outputs": [
    {
     "data": {
      "text/html": [
       "<div>\n",
       "<style scoped>\n",
       "    .dataframe tbody tr th:only-of-type {\n",
       "        vertical-align: middle;\n",
       "    }\n",
       "\n",
       "    .dataframe tbody tr th {\n",
       "        vertical-align: top;\n",
       "    }\n",
       "\n",
       "    .dataframe thead th {\n",
       "        text-align: right;\n",
       "    }\n",
       "</style>\n",
       "<table border=\"1\" class=\"dataframe\">\n",
       "  <thead>\n",
       "    <tr style=\"text-align: right;\">\n",
       "      <th></th>\n",
       "      <th>row_id</th>\n",
       "      <th>series_id</th>\n",
       "      <th>measurement_number</th>\n",
       "      <th>orientation_X</th>\n",
       "      <th>orientation_Y</th>\n",
       "      <th>orientation_Z</th>\n",
       "      <th>orientation_W</th>\n",
       "      <th>angular_velocity_X</th>\n",
       "      <th>angular_velocity_Y</th>\n",
       "      <th>angular_velocity_Z</th>\n",
       "      <th>linear_acceleration_X</th>\n",
       "      <th>linear_acceleration_Y</th>\n",
       "      <th>linear_acceleration_Z</th>\n",
       "    </tr>\n",
       "  </thead>\n",
       "  <tbody>\n",
       "    <tr>\n",
       "      <th>0</th>\n",
       "      <td>0_0</td>\n",
       "      <td>0</td>\n",
       "      <td>0</td>\n",
       "      <td>-0.75853</td>\n",
       "      <td>-0.63435</td>\n",
       "      <td>-0.10488</td>\n",
       "      <td>-0.10597</td>\n",
       "      <td>0.107650</td>\n",
       "      <td>0.017561</td>\n",
       "      <td>0.000767</td>\n",
       "      <td>-0.74857</td>\n",
       "      <td>2.1030</td>\n",
       "      <td>-9.7532</td>\n",
       "    </tr>\n",
       "    <tr>\n",
       "      <th>1</th>\n",
       "      <td>0_1</td>\n",
       "      <td>0</td>\n",
       "      <td>1</td>\n",
       "      <td>-0.75853</td>\n",
       "      <td>-0.63434</td>\n",
       "      <td>-0.10490</td>\n",
       "      <td>-0.10600</td>\n",
       "      <td>0.067851</td>\n",
       "      <td>0.029939</td>\n",
       "      <td>0.003385</td>\n",
       "      <td>0.33995</td>\n",
       "      <td>1.5064</td>\n",
       "      <td>-9.4128</td>\n",
       "    </tr>\n",
       "    <tr>\n",
       "      <th>2</th>\n",
       "      <td>0_2</td>\n",
       "      <td>0</td>\n",
       "      <td>2</td>\n",
       "      <td>-0.75853</td>\n",
       "      <td>-0.63435</td>\n",
       "      <td>-0.10492</td>\n",
       "      <td>-0.10597</td>\n",
       "      <td>0.007275</td>\n",
       "      <td>0.028934</td>\n",
       "      <td>-0.005978</td>\n",
       "      <td>-0.26429</td>\n",
       "      <td>1.5922</td>\n",
       "      <td>-8.7267</td>\n",
       "    </tr>\n",
       "    <tr>\n",
       "      <th>3</th>\n",
       "      <td>0_3</td>\n",
       "      <td>0</td>\n",
       "      <td>3</td>\n",
       "      <td>-0.75852</td>\n",
       "      <td>-0.63436</td>\n",
       "      <td>-0.10495</td>\n",
       "      <td>-0.10597</td>\n",
       "      <td>-0.013053</td>\n",
       "      <td>0.019448</td>\n",
       "      <td>-0.008974</td>\n",
       "      <td>0.42684</td>\n",
       "      <td>1.0993</td>\n",
       "      <td>-10.0960</td>\n",
       "    </tr>\n",
       "    <tr>\n",
       "      <th>4</th>\n",
       "      <td>0_4</td>\n",
       "      <td>0</td>\n",
       "      <td>4</td>\n",
       "      <td>-0.75852</td>\n",
       "      <td>-0.63435</td>\n",
       "      <td>-0.10495</td>\n",
       "      <td>-0.10596</td>\n",
       "      <td>0.005135</td>\n",
       "      <td>0.007652</td>\n",
       "      <td>0.005245</td>\n",
       "      <td>-0.50969</td>\n",
       "      <td>1.4689</td>\n",
       "      <td>-10.4410</td>\n",
       "    </tr>\n",
       "  </tbody>\n",
       "</table>\n",
       "</div>"
      ],
      "text/plain": [
       "  row_id  series_id  measurement_number  orientation_X  orientation_Y  \\\n",
       "0    0_0          0                   0       -0.75853       -0.63435   \n",
       "1    0_1          0                   1       -0.75853       -0.63434   \n",
       "2    0_2          0                   2       -0.75853       -0.63435   \n",
       "3    0_3          0                   3       -0.75852       -0.63436   \n",
       "4    0_4          0                   4       -0.75852       -0.63435   \n",
       "\n",
       "   orientation_Z  orientation_W  angular_velocity_X  angular_velocity_Y  \\\n",
       "0       -0.10488       -0.10597            0.107650            0.017561   \n",
       "1       -0.10490       -0.10600            0.067851            0.029939   \n",
       "2       -0.10492       -0.10597            0.007275            0.028934   \n",
       "3       -0.10495       -0.10597           -0.013053            0.019448   \n",
       "4       -0.10495       -0.10596            0.005135            0.007652   \n",
       "\n",
       "   angular_velocity_Z  linear_acceleration_X  linear_acceleration_Y  \\\n",
       "0            0.000767               -0.74857                 2.1030   \n",
       "1            0.003385                0.33995                 1.5064   \n",
       "2           -0.005978               -0.26429                 1.5922   \n",
       "3           -0.008974                0.42684                 1.0993   \n",
       "4            0.005245               -0.50969                 1.4689   \n",
       "\n",
       "   linear_acceleration_Z  \n",
       "0                -9.7532  \n",
       "1                -9.4128  \n",
       "2                -8.7267  \n",
       "3               -10.0960  \n",
       "4               -10.4410  "
      ]
     },
     "execution_count": 8,
     "metadata": {},
     "output_type": "execute_result"
    }
   ],
   "source": [
    "x_data.head()"
   ]
  },
  {
   "cell_type": "code",
   "execution_count": 9,
   "metadata": {},
   "outputs": [],
   "source": [
    "x_data=x_data.drop(['row_id'], axis = 1)"
   ]
  },
  {
   "cell_type": "code",
   "execution_count": 10,
   "metadata": {},
   "outputs": [],
   "source": [
    "y_data = pd.read_csv('career-con-2019/y_train.csv')\n",
    "y_data=y_data.drop(['series_id'], axis = 1)\n",
    "y_data=y_data.drop(['group_id'], axis = 1)"
   ]
  },
  {
   "cell_type": "code",
   "execution_count": 11,
   "metadata": {
    "scrolled": false
   },
   "outputs": [
    {
     "name": "stderr",
     "output_type": "stream",
     "text": [
      "C:\\Users\\Hotstone\\AppData\\Local\\Continuum\\anaconda3\\lib\\site-packages\\matplotlib\\font_manager.py:1241: UserWarning: findfont: Font family ['NanumGothic'] not found. Falling back to DejaVu Sans.\n",
      "  (prop.get_family(), self.defaultFamily[fontext]))\n",
      "C:\\Users\\Hotstone\\AppData\\Local\\Continuum\\anaconda3\\lib\\site-packages\\matplotlib\\font_manager.py:1241: UserWarning: findfont: Font family ['NanumGothic'] not found. Falling back to DejaVu Sans.\n",
      "  (prop.get_family(), self.defaultFamily[fontext]))\n"
     ]
    },
    {
     "data": {
      "image/png": "[encoded data removed]",
      "text/plain": [
       "<Figure size 720x360 with 1 Axes>"
      ]
     },
     "metadata": {
      "needs_background": "light"
     },
     "output_type": "display_data"
    }
   ],
   "source": [
    "plt.figure(figsize=(10, 5))\n",
    "sns.countplot(y_data['surface'])\n",
    "plt.title('Target distribution', size=15)\n",
    "plt.show()"
   ]
  },
  {
   "cell_type": "code",
   "execution_count": 13,
   "metadata": {},
   "outputs": [],
   "source": [
    "x_train = x_train.values"
   ]
  },
  {
   "cell_type": "code",
   "execution_count": 47,
   "metadata": {},
   "outputs": [
    {
     "data": {
      "text/plain": [
       "171"
      ]
     },
     "execution_count": 47,
     "metadata": {},
     "output_type": "execute_result"
    }
   ],
   "source": [
    "x_train.shape[1]"
   ]
  },
  {
   "cell_type": "code",
   "execution_count": 198,
   "metadata": {},
   "outputs": [],
   "source": [
    "def SetNormalDistibution(data):\n",
    "    for i in range(4, 12):\n",
    "        arr = np.array(data.iloc[:,i])\n",
    "        arr = (arr - arr.mean()) / arr.std()\n",
    "        data.iloc[:,i] = arr\n",
    "    return data\n",
    "\n",
    "x_data = SetNormalDistibution(x_data)"
   ]
  },
  {
   "cell_type": "code",
   "execution_count": 14,
   "metadata": {},
   "outputs": [
    {
     "data": {
      "text/html": [
       "<div>\n",
       "<style scoped>\n",
       "    .dataframe tbody tr th:only-of-type {\n",
       "        vertical-align: middle;\n",
       "    }\n",
       "\n",
       "    .dataframe tbody tr th {\n",
       "        vertical-align: top;\n",
       "    }\n",
       "\n",
       "    .dataframe thead th {\n",
       "        text-align: right;\n",
       "    }\n",
       "</style>\n",
       "<table border=\"1\" class=\"dataframe\">\n",
       "  <thead>\n",
       "    <tr style=\"text-align: right;\">\n",
       "      <th></th>\n",
       "      <th>series_id</th>\n",
       "      <th>measurement_number</th>\n",
       "      <th>orientation_X</th>\n",
       "      <th>orientation_Y</th>\n",
       "      <th>orientation_Z</th>\n",
       "      <th>orientation_W</th>\n",
       "      <th>angular_velocity_X</th>\n",
       "      <th>angular_velocity_Y</th>\n",
       "      <th>angular_velocity_Z</th>\n",
       "      <th>linear_acceleration_X</th>\n",
       "      <th>linear_acceleration_Y</th>\n",
       "      <th>linear_acceleration_Z</th>\n",
       "    </tr>\n",
       "  </thead>\n",
       "  <tbody>\n",
       "    <tr>\n",
       "      <th>0</th>\n",
       "      <td>0</td>\n",
       "      <td>0</td>\n",
       "      <td>-0.75853</td>\n",
       "      <td>-0.63435</td>\n",
       "      <td>-0.10488</td>\n",
       "      <td>-0.10597</td>\n",
       "      <td>0.107650</td>\n",
       "      <td>0.017561</td>\n",
       "      <td>0.000767</td>\n",
       "      <td>-0.74857</td>\n",
       "      <td>2.1030</td>\n",
       "      <td>-9.7532</td>\n",
       "    </tr>\n",
       "    <tr>\n",
       "      <th>1</th>\n",
       "      <td>0</td>\n",
       "      <td>1</td>\n",
       "      <td>-0.75853</td>\n",
       "      <td>-0.63434</td>\n",
       "      <td>-0.10490</td>\n",
       "      <td>-0.10600</td>\n",
       "      <td>0.067851</td>\n",
       "      <td>0.029939</td>\n",
       "      <td>0.003385</td>\n",
       "      <td>0.33995</td>\n",
       "      <td>1.5064</td>\n",
       "      <td>-9.4128</td>\n",
       "    </tr>\n",
       "    <tr>\n",
       "      <th>2</th>\n",
       "      <td>0</td>\n",
       "      <td>2</td>\n",
       "      <td>-0.75853</td>\n",
       "      <td>-0.63435</td>\n",
       "      <td>-0.10492</td>\n",
       "      <td>-0.10597</td>\n",
       "      <td>0.007275</td>\n",
       "      <td>0.028934</td>\n",
       "      <td>-0.005978</td>\n",
       "      <td>-0.26429</td>\n",
       "      <td>1.5922</td>\n",
       "      <td>-8.7267</td>\n",
       "    </tr>\n",
       "    <tr>\n",
       "      <th>3</th>\n",
       "      <td>0</td>\n",
       "      <td>3</td>\n",
       "      <td>-0.75852</td>\n",
       "      <td>-0.63436</td>\n",
       "      <td>-0.10495</td>\n",
       "      <td>-0.10597</td>\n",
       "      <td>-0.013053</td>\n",
       "      <td>0.019448</td>\n",
       "      <td>-0.008974</td>\n",
       "      <td>0.42684</td>\n",
       "      <td>1.0993</td>\n",
       "      <td>-10.0960</td>\n",
       "    </tr>\n",
       "    <tr>\n",
       "      <th>4</th>\n",
       "      <td>0</td>\n",
       "      <td>4</td>\n",
       "      <td>-0.75852</td>\n",
       "      <td>-0.63435</td>\n",
       "      <td>-0.10495</td>\n",
       "      <td>-0.10596</td>\n",
       "      <td>0.005135</td>\n",
       "      <td>0.007652</td>\n",
       "      <td>0.005245</td>\n",
       "      <td>-0.50969</td>\n",
       "      <td>1.4689</td>\n",
       "      <td>-10.4410</td>\n",
       "    </tr>\n",
       "  </tbody>\n",
       "</table>\n",
       "</div>"
      ],
      "text/plain": [
       "   series_id  measurement_number  orientation_X  orientation_Y  orientation_Z  \\\n",
       "0          0                   0       -0.75853       -0.63435       -0.10488   \n",
       "1          0                   1       -0.75853       -0.63434       -0.10490   \n",
       "2          0                   2       -0.75853       -0.63435       -0.10492   \n",
       "3          0                   3       -0.75852       -0.63436       -0.10495   \n",
       "4          0                   4       -0.75852       -0.63435       -0.10495   \n",
       "\n",
       "   orientation_W  angular_velocity_X  angular_velocity_Y  angular_velocity_Z  \\\n",
       "0       -0.10597            0.107650            0.017561            0.000767   \n",
       "1       -0.10600            0.067851            0.029939            0.003385   \n",
       "2       -0.10597            0.007275            0.028934           -0.005978   \n",
       "3       -0.10597           -0.013053            0.019448           -0.008974   \n",
       "4       -0.10596            0.005135            0.007652            0.005245   \n",
       "\n",
       "   linear_acceleration_X  linear_acceleration_Y  linear_acceleration_Z  \n",
       "0               -0.74857                 2.1030                -9.7532  \n",
       "1                0.33995                 1.5064                -9.4128  \n",
       "2               -0.26429                 1.5922                -8.7267  \n",
       "3                0.42684                 1.0993               -10.0960  \n",
       "4               -0.50969                 1.4689               -10.4410  "
      ]
     },
     "execution_count": 14,
     "metadata": {},
     "output_type": "execute_result"
    }
   ],
   "source": [
    "x_data.head()"
   ]
  },
  {
   "cell_type": "code",
   "execution_count": 22,
   "metadata": {},
   "outputs": [],
   "source": [
    "def fe(x_data, num):\n",
    "    x_train = []\n",
    "    for i in range (num):\n",
    "        li = []\n",
    "        df = x_data[(x_data.series_id == i)]\n",
    "        np_x_data = np.array(x_data)\n",
    "        tmp = np.array(df)\n",
    "        for j in range(2, 12):\n",
    "            if j >= 9:\n",
    "                li.append((tmp[:,j].mean()))\n",
    "            elif 2 < j <= 4:\n",
    "                for k in range(4):\n",
    "                    li.append(tmp[k*32:(k+1)*32,j].mean())      \n",
    "            elif (j != 6) & (j != 7):\n",
    "                li.append(tmp[:,j].mean())\n",
    "        x_train.append(li)\n",
    "    return x_train"
   ]
  },
  {
   "cell_type": "code",
   "execution_count": 13,
   "metadata": {},
   "outputs": [
    {
     "data": {
      "text/plain": [
       "14"
      ]
     },
     "execution_count": 13,
     "metadata": {},
     "output_type": "execute_result"
    }
   ],
   "source": [
    "x_train = fe(x_data, y_data)\n",
    "x_train = np.array(x_train)\n",
    "x_train.shape[1]"
   ]
  },
  {
   "cell_type": "code",
   "execution_count": 14,
   "metadata": {},
   "outputs": [],
   "source": [
    "surface = y_data.drop_duplicates('surface')\n",
    "surfaceList = np.array(surface['surface'])\n",
    "\n",
    "def ListMaptoDict(somelist):\n",
    "    return {somelist[x]:x for x in range(len(somelist))}\n",
    "\n",
    "surfaceDict = ListMaptoDict(surfaceList)\n",
    "y_data['surface'] = y_data['surface'].map(surfaceDict)"
   ]
  },
  {
   "cell_type": "code",
   "execution_count": 18,
   "metadata": {},
   "outputs": [],
   "source": [
    "y_train = y_train.values"
   ]
  },
  {
   "cell_type": "code",
   "execution_count": 20,
   "metadata": {
    "scrolled": true
   },
   "outputs": [],
   "source": [
    "def BuildMode(learning_rate, regularizer_rate):\n",
    "    model = keras.Sequential()\n",
    "    model.add(keras.layers.Dense(x_train.shape[1], input_shape=(x_train.shape[1], )))\n",
    "    model.add(keras.layers.Dense(x_train.shape[1], activation='relu'))\n",
    "    model.add(keras.layers.Dense(x_train.shape[1], activation='relu'))\n",
    "    model.add(keras.layers.Dense(x_train.shape[1], activation='relu'))\n",
    "    model.add(keras.layers.Dense(x_train.shape[1], activation='relu'))\n",
    "    model.add(keras.layers.Dense(x_train.shape[1], activation='relu'))\n",
    "    model.add(keras.layers.Dense(x_train.shape[1], activation='relu'))\n",
    "    model.add(keras.layers.Dense(x_train.shape[1], activation='relu'))\n",
    "    model.add(keras.layers.Dense(x_train.shape[1], activation='relu'))\n",
    "    model.add(keras.layers.Dense(x_train.shape[1], activation='relu'))\n",
    "    model.add(keras.layers.Dense(x_train.shape[1], activation='relu'))\n",
    "    model.add(keras.layers.Dense(x_train.shape[1], activation='relu'))\n",
    "    model.add(keras.layers.Dense(x_train.shape[1], activation='relu'))\n",
    "    model.add(keras.layers.Dense(len(surfaceDict), activation='softmax'))\n",
    "\n",
    "    opt = keras.optimizers.Adam(lr=learning_rate)\n",
    "    model.compile(optimizer = opt, loss = 'categorical_crossentropy', metrics = ['accuracy'])\n",
    "    return model"
   ]
  },
  {
   "cell_type": "code",
   "execution_count": 21,
   "metadata": {},
   "outputs": [
    {
     "name": "stdout",
     "output_type": "stream",
     "text": [
      "commencing fold 1\n",
      "  preparing data...\n",
      "  building model...\n",
      "WARNING:tensorflow:From C:\\Users\\Hotstone\\AppData\\Local\\Continuum\\anaconda3\\lib\\site-packages\\tensorflow\\python\\ops\\resource_variable_ops.py:435: colocate_with (from tensorflow.python.framework.ops) is deprecated and will be removed in a future version.\n",
      "Instructions for updating:\n",
      "Colocations handled automatically by placer.\n",
      "  fitting model...\n",
      "WARNING:tensorflow:From C:\\Users\\Hotstone\\AppData\\Local\\Continuum\\anaconda3\\lib\\site-packages\\tensorflow\\python\\ops\\math_ops.py:3066: to_int32 (from tensorflow.python.ops.math_ops) is deprecated and will be removed in a future version.\n",
      "Instructions for updating:\n",
      "Use tf.cast instead.\n",
      "  evaluating model...\n",
      "  fold 1 accuracy: 61.55844330787659\n",
      "commencing fold 2\n",
      "  preparing data...\n",
      "  building model...\n",
      "  fitting model...\n",
      "  evaluating model...\n",
      "  fold 2 accuracy: 59.375\n",
      "commencing fold 3\n",
      "  preparing data...\n",
      "  building model...\n",
      "  fitting model...\n",
      "  evaluating model...\n",
      "  fold 3 accuracy: 59.007835388183594\n",
      "commencing fold 4\n",
      "  preparing data...\n",
      "  building model...\n",
      "  fitting model...\n",
      "  evaluating model...\n",
      "  fold 4 accuracy: 60.47120690345764\n",
      "commencing fold 5\n",
      "  preparing data...\n",
      "  building model...\n",
      "  fitting model...\n",
      "  evaluating model...\n",
      "  fold 5 accuracy: 63.77952694892883\n",
      "commencing fold 6\n",
      "  preparing data...\n",
      "  building model...\n",
      "  fitting model...\n",
      "  evaluating model...\n",
      "  fold 6 accuracy: 59.317582845687866\n",
      "commencing fold 7\n",
      "  preparing data...\n",
      "  building model...\n",
      "  fitting model...\n",
      "  evaluating model...\n",
      "  fold 7 accuracy: 55.11810779571533\n",
      "commencing fold 8\n",
      "  preparing data...\n",
      "  building model...\n",
      "  fitting model...\n",
      "  evaluating model...\n",
      "  fold 8 accuracy: 60.42216420173645\n",
      "commencing fold 9\n",
      "  preparing data...\n",
      "  building model...\n",
      "  fitting model...\n",
      "  evaluating model...\n",
      "  fold 9 accuracy: 60.317462682724\n",
      "commencing fold 10\n",
      "  preparing data...\n",
      "  building model...\n",
      "  fitting model...\n",
      "  evaluating model...\n",
      "  fold 10 accuracy: 64.89361524581909\n",
      "ensemble average accuracy: 60.426098108291626 % (+/- 2.549903839826584 %)\n"
     ]
    }
   ],
   "source": [
    "skf = StratifiedKFold(n_splits = 10, shuffle=True, random_state=59)\n",
    "scores = []\n",
    "models = []\n",
    "current_fold = 1\n",
    "for train, test in skf.split(x_train, y_train):\n",
    "    print('commencing fold {}'.format(current_fold))\n",
    "   \n",
    "    print('  preparing data...')\n",
    "    Xt = x_train[train]\n",
    "    Yt = keras.utils.to_categorical(y_train[train], len(surfaceDict))\n",
    "    Xv = x_train[test]\n",
    "    Yv = keras.utils.to_categorical(y_train[test], len(surfaceDict))\n",
    "\n",
    "    print('  building model...')\n",
    "    classifier = BuildMode(0.001, 0)\n",
    "    print('  fitting model...')\n",
    "    classifier.fit(Xt, Yt, epochs=3000, batch_size=256, verbose=False)\n",
    "    print('  evaluating model...')\n",
    "    score = classifier.evaluate(Xv, Yv, batch_size=1024, verbose=False)\n",
    "    scores.append(score[-1])\n",
    "    models.append(classifier)\n",
    "    print('  fold {} accuracy: {}'.format(current_fold, score[-1]*100))\n",
    "    current_fold += 1\n",
    "    \n",
    "print('ensemble average accuracy: {} % (+/- {} %)'.format(np.mean(scores)*100, np.std(scores)*100))"
   ]
  },
  {
   "cell_type": "code",
   "execution_count": 23,
   "metadata": {},
   "outputs": [],
   "source": [
    "x_testdata = pd.read_csv('career-con-2019\\X_test.csv')\n",
    "x_testdata = x_testdata.drop(['row_id'], axis = 1)"
   ]
  },
  {
   "cell_type": "code",
   "execution_count": 25,
   "metadata": {},
   "outputs": [],
   "source": [
    "x_test = fe(x_testdata, 3816)"
   ]
  },
  {
   "cell_type": "code",
   "execution_count": 29,
   "metadata": {},
   "outputs": [],
   "source": [
    "x_test = np.array(x_test)"
   ]
  },
  {
   "cell_type": "code",
   "execution_count": 30,
   "metadata": {},
   "outputs": [],
   "source": [
    "predicted = models[4].predict(x_test)"
   ]
  },
  {
   "cell_type": "code",
   "execution_count": 39,
   "metadata": {
    "scrolled": true
   },
   "outputs": [
    {
     "name": "stdout",
     "output_type": "stream",
     "text": [
      "Fold: 0 score: 0.7376623376623377\n",
      "Fold: 1 score: 0.7265625\n",
      "Fold: 2 score: 0.7362924281984334\n",
      "Fold: 3 score: 0.7617801047120419\n",
      "Fold: 4 score: 0.7716535433070866\n",
      "Fold: 5 score: 0.7690288713910761\n",
      "Fold: 6 score: 0.7349081364829396\n",
      "Fold: 7 score: 0.7150395778364116\n",
      "Fold: 8 score: 0.7433862433862434\n",
      "Fold: 9 score: 0.7872340425531915\n"
     ]
    }
   ],
   "source": [
    "folds = StratifiedKFold(n_splits=10, shuffle=True, random_state=59)\n",
    "predicted = np.zeros((3816,9))\n",
    "measured= np.zeros((x_train.shape[0]))\n",
    "score = 0\n",
    "for times, (trn_idx, val_idx) in enumerate(folds.split(x_train, y_train['surface'].values)):\n",
    "    model = RandomForestClassifier(n_estimators=1000, n_jobs = -1)\n",
    "    #model = RandomForestClassifier(n_estimators=500, max_depth=10, min_samples_split=5, n_jobs=-1)\n",
    "    model.fit(x_train[trn_idx],y_train['surface'][trn_idx])\n",
    "    measured[val_idx] = model.predict(x_train[val_idx])\n",
    "    predicted += model.predict_proba(x_test)/folds.n_splits\n",
    "    score += model.score(x_train[val_idx],y_train['surface'][val_idx])\n",
    "    print(\"Fold: {} score: {}\".format(times,model.score(x_train[val_idx],y_train['surface'][val_idx])))\n",
    "\n",
    "    importances = model.feature_importances_\n",
    "    indices = np.argsort(importances)\n",
    "    \n",
    "    if model.score(x_train[val_idx],y_train['surface'][val_idx]) > 0.92000:\n",
    "        hm = 30\n",
    "        plt.figure(figsize=(7, 10))\n",
    "        plt.title('Feature Importances')\n",
    "        plt.barh(range(len(indices[:hm])), importances[indices][:hm], color='b', align='center')\n",
    "        plt.xlabel('Relative Importance')\n",
    "        plt.show()\n",
    "\n",
    "    gc.collect()"
   ]
  },
  {
   "cell_type": "code",
   "execution_count": 31,
   "metadata": {},
   "outputs": [],
   "source": [
    "result = []\n",
    "for i in range(len(predicted)):\n",
    "    result.append(np.argmax(predicted[i]))"
   ]
  },
  {
   "cell_type": "code",
   "execution_count": 32,
   "metadata": {},
   "outputs": [],
   "source": [
    "surfaceDict = {y:x for x,y in surfaceDict.items()}\n"
   ]
  },
  {
   "cell_type": "code",
   "execution_count": 33,
   "metadata": {},
   "outputs": [],
   "source": [
    "for i in range(len(result)):\n",
    "    result[i] = surfaceDict[result[i]]"
   ]
  },
  {
   "cell_type": "code",
   "execution_count": 34,
   "metadata": {},
   "outputs": [],
   "source": [
    "pdResult = pd.read_csv('career-con-2019\\sample_submission.csv')\n",
    "pdResult['surface'] = result;\n",
    "pdResult.to_csv('result.csv', index = False)"
   ]
  },
  {
   "cell_type": "code",
   "execution_count": 35,
   "metadata": {},
   "outputs": [
    {
     "data": {
      "image/png": "[encoded data removed]",
      "text/plain": [
       "<Figure size 1080x360 with 1 Axes>"
      ]
     },
     "metadata": {
      "needs_background": "light"
     },
     "output_type": "display_data"
    }
   ],
   "source": [
    "plt.figure(figsize=(15, 5))\n",
    "sns.countplot(pdResult['surface'])\n",
    "plt.title('Target distribution', size=15)\n",
    "plt.show()"
   ]
  },
  {
   "cell_type": "code",
   "execution_count": null,
   "metadata": {},
   "outputs": [],
   "source": []
  }
 ],
 "metadata": {
  "kernelspec": {
   "display_name": "Python 3",
   "language": "python",
   "name": "python3"
  },
  "language_info": {
   "codemirror_mode": {
    "name": "ipython",
    "version": 3
   },
   "file_extension": ".py",
   "mimetype": "text/x-python",
   "name": "python",
   "nbconvert_exporter": "python",
   "pygments_lexer": "ipython3",
   "version": "3.6.8"
  }
 },
 "nbformat": 4,
 "nbformat_minor": 2
}
